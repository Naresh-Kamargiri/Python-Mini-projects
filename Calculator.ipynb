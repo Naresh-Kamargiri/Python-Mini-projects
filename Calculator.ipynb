{
  "nbformat": 4,
  "nbformat_minor": 0,
  "metadata": {
    "colab": {
      "provenance": [],
      "authorship_tag": "ABX9TyPIy5kTha74y+oSFF1JCkVM",
      "include_colab_link": true
    },
    "kernelspec": {
      "name": "python3",
      "display_name": "Python 3"
    },
    "language_info": {
      "name": "python"
    }
  },
  "cells": [
    {
      "cell_type": "markdown",
      "metadata": {
        "id": "view-in-github",
        "colab_type": "text"
      },
      "source": [
        "<a href=\"https://colab.research.google.com/github/Naresh-Kamargiri/Python-Mini-projects/blob/main/Calculator.ipynb\" target=\"_parent\"><img src=\"https://colab.research.google.com/assets/colab-badge.svg\" alt=\"Open In Colab\"/></a>"
      ]
    },
    {
      "cell_type": "code",
      "execution_count": null,
      "metadata": {
        "colab": {
          "base_uri": "https://localhost:8080/"
        },
        "id": "zJKSsk72v8aP",
        "outputId": "72841bed-1efc-4acf-c06e-93288229c2cc"
      },
      "outputs": [
        {
          "output_type": "stream",
          "name": "stdout",
          "text": [
            "Calculate\n",
            "1.Rectangle\n",
            "2.Square\n",
            "3.Circle\n",
            "4.Triangle\n",
            "5.Parallelogram\n",
            "6.Exit\n"
          ]
        }
      ],
      "source": [
        "print(\"Calculate\")\n",
        "print(\"1.Rectangle\\n2.Square\\n3.Circle\\n4.Triangle\\n5.Parallelogram\\n6.Exit\")\n",
        "A=int(input(\"ENTER YOUR CHOICE=\"))\n",
        "if A==1:\n",
        "        length = float(input(\"Enter length of the rectangle: \"))\n",
        "        breadth = float(input(\"Enter breadth of the rectangle: \"))\n",
        "        area = length * breadth\n",
        "        perimeter = 2 * (length * breadth)\n",
        "        print(\"Area of rectangle = \", area)\n",
        "        print(\"Perimeter of rectangle = \", perimeter)\n",
        "elif A==2:\n",
        "    side=int(input(\"Enter side of square \"))\n",
        "    area=side*side\n",
        "    perimeter=4*side\n",
        "    print(\"Area of Square = \",area)\n",
        "    print(\"Perimeter of Square = \",perimeter)\n",
        "elif A==3:\n",
        "    PI = 3.14\n",
        "    radius = float(input(' Please Enter the radius of a circle: '))\n",
        "    diameter = 2 * radius\n",
        "    circumference = 2 * PI * radius\n",
        "    area = PI * radius * radius\n",
        "    print(\" Diameter Of a Circle = \",diameter)\n",
        "    print(\" Circumference Of a Circle = \", circumference)\n",
        "    print(\" Area Of a Circle = \" ,area)\n",
        "elif A==4:\n",
        "    s1 = float(input(\"Enter the first side of the triangle : \"))\n",
        "    s2 = float(input(\"Enter the second side of the triangle : \"))\n",
        "    s3 = float(input(\"Enter the third side of the triangle : \"))\n",
        "    perimeter = (s1 + s2 + s3)\n",
        "    s = perimeter/2\n",
        "    area = (s * (s-s1) * (s-s2)*(s-s3))**0.5\n",
        "    print(\"The perimeter of the triangle is =\",perimeter)\n",
        "    print(\"The area of the triangle is = \",area)\n",
        "elif A==5:\n",
        "    l=float(input(\"Enter length\"))\n",
        "    w=float(input(\"Enter width\"))\n",
        "    h=float(input(\"Enter height:\"))\n",
        "    area =l*h\n",
        "    perimeter=2*l+2*w\n",
        "    print (\"The area of the parallelogram =\", area)\n",
        "    print(\" The perimeter of the parallelogram =\", perimeter)\n",
        "else :\n",
        "    print(\"End\")\n"
      ]
    },
    {
      "cell_type": "code",
      "source": [],
      "metadata": {
        "id": "XxMQDBPmv_Eb"
      },
      "execution_count": null,
      "outputs": []
    }
  ]
}
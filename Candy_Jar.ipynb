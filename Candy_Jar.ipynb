{
  "nbformat": 4,
  "nbformat_minor": 0,
  "metadata": {
    "colab": {
      "provenance": [],
      "authorship_tag": "ABX9TyOYEmRdcq5BMYB9RsjRGW4G",
      "include_colab_link": true
    },
    "kernelspec": {
      "name": "python3",
      "display_name": "Python 3"
    },
    "language_info": {
      "name": "python"
    }
  },
  "cells": [
    {
      "cell_type": "markdown",
      "metadata": {
        "id": "view-in-github",
        "colab_type": "text"
      },
      "source": [
        "<a href=\"https://colab.research.google.com/github/Naresh-Kamargiri/Python-Mini-projects/blob/main/Candy_Jar.ipynb\" target=\"_parent\"><img src=\"https://colab.research.google.com/assets/colab-badge.svg\" alt=\"Open In Colab\"/></a>"
      ]
    },
    {
      "cell_type": "code",
      "execution_count": 1,
      "metadata": {
        "colab": {
          "base_uri": "https://localhost:8080/"
        },
        "id": "izahL02_vIDo",
        "outputId": "a4a8d0a2-7cd9-45fc-aa28-6dad1028a21f"
      },
      "outputs": [
        {
          "name": "stdout",
          "output_type": "stream",
          "text": [
            "Enter the Number of Candies You Want : 11\n",
            "You Got 11 Candies\n",
            "Remaining Candies :  89\n",
            "Thanks For Visiting\n",
            "Want More Candies(Y/N) : n\n"
          ]
        }
      ],
      "source": [
        "stock=100\n",
        "choice=\"Y\"\n",
        "while choice==\"y\" or choice==\"Y\":\n",
        "    n=int(input(\"Enter the Number of Candies You Want : \"))\n",
        "    if n<=stock:\n",
        "        print(\"You Got\", n, \"Candies\")\n",
        "        print(\"Remaining Candies : \",stock-n)\n",
        "        print(\"Thanks For Visiting\")\n",
        "        choice=input(\"Want More Candies(Y/N) : \")\n",
        "    else:\n",
        "        print(\"Sorry!!, We Dont have enough Candies\")\n",
        "        continue\n",
        "    stock=stock-n\n"
      ]
    },
    {
      "cell_type": "code",
      "source": [],
      "metadata": {
        "id": "IRHboBtovKKy"
      },
      "execution_count": null,
      "outputs": []
    }
  ]
}